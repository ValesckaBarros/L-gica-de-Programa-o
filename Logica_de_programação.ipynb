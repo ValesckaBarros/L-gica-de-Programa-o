{
  "nbformat": 4,
  "nbformat_minor": 0,
  "metadata": {
    "colab": {
      "provenance": [],
      "authorship_tag": "ABX9TyMcRNBXnbCJPWTf2CyemhmA",
      "include_colab_link": true
    },
    "kernelspec": {
      "name": "python3",
      "display_name": "Python 3"
    },
    "language_info": {
      "name": "python"
    }
  },
  "cells": [
    {
      "cell_type": "markdown",
      "metadata": {
        "id": "view-in-github",
        "colab_type": "text"
      },
      "source": [
        "<a href=\"https://colab.research.google.com/github/ValesckaBarros/Logica-de-Programacao-Python/blob/main/Logica_de_programa%C3%A7%C3%A3o.ipynb\" target=\"_parent\"><img src=\"https://colab.research.google.com/assets/colab-badge.svg\" alt=\"Open In Colab\"/></a>"
      ]
    },
    {
      "cell_type": "markdown",
      "source": [
        "# Variáveis e tipos de dados em python"
      ],
      "metadata": {
        "id": "fIKqAyX79qQQ"
      }
    },
    {
      "cell_type": "markdown",
      "source": [
        "python possui tipagem dinamica\n",
        "\n",
        "linguagem interpretada\n",
        "\n",
        "**Tipos de dados**\n",
        "1.   **número inteiro** - int\n",
        "2.   **número de ponto flutuante** - real - float\n",
        "3.   **um único caractere** - caractere -  str\n",
        "4.   **texto** - caractere - str\n",
        "5.   **valor lógico** - logico -  boolean"
      ],
      "metadata": {
        "id": "LaP_2r_7yXRi"
      }
    },
    {
      "cell_type": "code",
      "source": [
        "# idade: int\n",
        "# salario: float\n",
        "# altura: float\n",
        "# genero: str\n",
        "# nome: str\n",
        "\n",
        "idade = 20\n",
        "salario = 5800.5\n",
        "altura = 1.63\n",
        "genero = \"F\"\n",
        "nome = 'Maria silva'\n",
        "# escreva - mostrar alguma informação na tela\n",
        "# print ~ escreva\n",
        "\n",
        "# escreva(\"idade = \", idade)\n",
        "print(f'idade = {idade}') # \"f\" serve para interpolar texto c/ variaveis\n",
        "\n",
        "\n",
        "print(f'salario = {salario:.2f}')\n",
        "\n",
        "\n",
        "print(f'altura = {altura:.1f}')\n",
        "\n",
        "print(f'genero = {genero}')\n",
        "\n",
        "print(f'nome = {nome}')\n",
        "\n",
        "print(\"nome: \", nome)"
      ],
      "metadata": {
        "colab": {
          "base_uri": "https://localhost:8080/"
        },
        "id": "S6Pt2bHCyiVO",
        "outputId": "15b19695-e3ad-42b5-d6cf-1b3df9aa2f23"
      },
      "execution_count": null,
      "outputs": [
        {
          "output_type": "stream",
          "name": "stdout",
          "text": [
            "idade = 20\n",
            "salario = 5800.50\n",
            "altura = 1.6\n",
            "genero = F\n",
            "nome = Maria silva\n",
            "nome:  Maria silva\n"
          ]
        }
      ]
    },
    {
      "cell_type": "markdown",
      "source": [
        "#Operadores em Python\n",
        "\n",
        "\n",
        "\n",
        "\n",
        "\n",
        "\n"
      ],
      "metadata": {
        "id": "GgaCPHjJ3tWH"
      }
    },
    {
      "cell_type": "markdown",
      "source": [
        "**operadores aritméticos**\n",
        "1. (+)  adição\n",
        "2. (-)  subtração\n",
        "3. (*)  multiplicação\n",
        "4. (/)  divisão\n",
        "5. (%)  resto da divisão\n",
        "6. (**) exponeciação\n",
        "7. (//) divisão inteira"
      ],
      "metadata": {
        "id": "yPyqlks7-jfX"
      }
    },
    {
      "cell_type": "code",
      "source": [
        "x=5\n",
        "y=2\n",
        "\n",
        "a = x+y\n",
        "b = x-y\n",
        "c = x*y\n",
        "d = x/y\n",
        "e = x%y\n",
        "f = x//y\n",
        "\n",
        "print(a)\n",
        "print(b)\n",
        "print(c)\n",
        "print(d)\n",
        "print(e)\n",
        "print(f)"
      ],
      "metadata": {
        "colab": {
          "base_uri": "https://localhost:8080/"
        },
        "id": "_Wi9EqG83rVW",
        "outputId": "67ae3f69-eb8a-4c62-a532-4ae270efe723"
      },
      "execution_count": null,
      "outputs": [
        {
          "output_type": "stream",
          "name": "stdout",
          "text": [
            "7\n",
            "3\n",
            "10\n",
            "2.5\n",
            "1\n",
            "2\n"
          ]
        }
      ]
    },
    {
      "cell_type": "markdown",
      "source": [
        "**operadores comparativos**\n",
        "1. (<) menor\n",
        "2. (>) maior\n",
        "3. (<=) menor ou igua\n",
        "4. (>=) maior ou igual\n",
        "5. (==) igual\n",
        "6. (!=) ou (<>) diferente"
      ],
      "metadata": {
        "id": "aaWZT5Qp-jyV"
      }
    },
    {
      "cell_type": "code",
      "source": [
        "x=5\n",
        "y=2\n",
        "\n",
        "a = x>y\n",
        "b = x<y\n",
        "c = x<=y\n",
        "d = x>=y\n",
        "e = x==y\n",
        "f = x!=y\n",
        "\n",
        "print(a)\n",
        "print(b)\n",
        "print(c)\n",
        "print(d)\n",
        "print(e)\n",
        "print(f)"
      ],
      "metadata": {
        "colab": {
          "base_uri": "https://localhost:8080/"
        },
        "id": "rqTV_x6s_FT0",
        "outputId": "adca9df6-c844-44b8-c3ac-27ff8e24c030"
      },
      "execution_count": null,
      "outputs": [
        {
          "output_type": "stream",
          "name": "stdout",
          "text": [
            "True\n",
            "False\n",
            "False\n",
            "True\n",
            "False\n",
            "True\n"
          ]
        }
      ]
    },
    {
      "cell_type": "markdown",
      "source": [
        "**operadores lógicos**\n",
        "1. (and) e\n",
        "2. (or)  ou\n",
        "3. (not) não"
      ],
      "metadata": {
        "id": "0PXI_NUa-kB_"
      }
    },
    {
      "cell_type": "markdown",
      "source": [
        "#Saída de dados"
      ],
      "metadata": {
        "id": "PBKmorjux-qO"
      }
    },
    {
      "cell_type": "code",
      "execution_count": null,
      "metadata": {
        "id": "IPWKrAzwh5aC",
        "colab": {
          "base_uri": "https://localhost:8080/"
        },
        "outputId": "5b26ce6e-bdd8-4e99-8396-c0b15c1df3a9"
      },
      "outputs": [
        {
          "output_type": "stream",
          "name": "stdout",
          "text": [
            "olá mundo!!!\n"
          ]
        }
      ],
      "source": [
        "print('olá mundo!!!')"
      ]
    },
    {
      "cell_type": "code",
      "source": [
        "print('bom dia!!')\n",
        "print(\"boa noite!!\")\n",
        "\n",
        "# \"\" ou '' funcionam da mesma forma\n",
        "# por padrão o python imprime os valores um em baixo do outro"
      ],
      "metadata": {
        "id": "ieHZUnhi6sDN",
        "colab": {
          "base_uri": "https://localhost:8080/"
        },
        "outputId": "9b4d397c-2a72-417e-a187-89384a3c104c"
      },
      "execution_count": null,
      "outputs": [
        {
          "output_type": "stream",
          "name": "stdout",
          "text": [
            "bom dia!!\n",
            "boa noite!!\n"
          ]
        }
      ]
    },
    {
      "cell_type": "code",
      "source": [
        "print('bom dia!!', end='') # comando para não quebra linha\n",
        "print(\"boa noite!!\")"
      ],
      "metadata": {
        "id": "jysVWUNL7HSj",
        "colab": {
          "base_uri": "https://localhost:8080/"
        },
        "outputId": "dacf4a21-4726-48b7-9853-fed736df94f1"
      },
      "execution_count": null,
      "outputs": [
        {
          "output_type": "stream",
          "name": "stdout",
          "text": [
            "bom dia!!boa noite!!\n"
          ]
        }
      ]
    },
    {
      "cell_type": "code",
      "source": [
        "# Placeholder de formatação\n",
        "# %d :int\n",
        "# %f :float\n",
        "# %s :str\n",
        "\n",
        "x = 'Maria'\n",
        "y = 19\n",
        "\n",
        "print('%s tem %d anos' %(x,y))"
      ],
      "metadata": {
        "id": "a51wck-L_sRx",
        "colab": {
          "base_uri": "https://localhost:8080/"
        },
        "outputId": "8c0217bc-b118-49f7-e22f-e5b19e45959f"
      },
      "execution_count": null,
      "outputs": [
        {
          "output_type": "stream",
          "name": "stdout",
          "text": [
            "Maria tem 19 anos\n"
          ]
        }
      ]
    },
    {
      "cell_type": "code",
      "source": [
        "# imprimindo apenas a variável\n",
        "x = 10\n",
        "y = 20\n",
        "\n",
        "print(x)\n",
        "print(y)\n",
        "print(x,'\\n',y)"
      ],
      "metadata": {
        "id": "LqCjxjt4A5uL",
        "colab": {
          "base_uri": "https://localhost:8080/"
        },
        "outputId": "cd7aec1b-6243-46a5-c047-e9bf3cb31d4f"
      },
      "execution_count": null,
      "outputs": [
        {
          "output_type": "stream",
          "name": "stdout",
          "text": [
            "10\n",
            "20\n",
            "10 \n",
            " 20\n"
          ]
        }
      ]
    },
    {
      "cell_type": "code",
      "source": [
        "#formatando um float\n",
        "x = 2.3456\n",
        "print(\"{:f}\".format(x)) #por padrão utiliza 6 casas após a vírgula\n",
        "print(\"{:.2f}\".format(x))"
      ],
      "metadata": {
        "colab": {
          "base_uri": "https://localhost:8080/"
        },
        "id": "AR6fFrfvBYwT",
        "outputId": "7fbc749a-11db-451a-b3d0-0f460038c16c"
      },
      "execution_count": null,
      "outputs": [
        {
          "output_type": "stream",
          "name": "stdout",
          "text": [
            "2.345600\n",
            "2.35\n"
          ]
        }
      ]
    },
    {
      "cell_type": "code",
      "source": [
        "#interpolando dados\n",
        "idade = 32\n",
        "salario = 4560.9\n",
        "nome = 'Maria silva'\n",
        "sexo = 'f'\n",
        "\n",
        "print(f'A funcionária {nome}, sexo {sexo}, ganha R$ {salario} e tem {idade} anos')\n",
        "print(f'A funcionária {nome}, sexo {sexo}, ganha R$ {salario:.2f} e tem {idade} anos')"
      ],
      "metadata": {
        "colab": {
          "base_uri": "https://localhost:8080/"
        },
        "id": "s9Utj6G-CLws",
        "outputId": "08622dc3-23e6-4808-e37e-50dd596bf11e"
      },
      "execution_count": null,
      "outputs": [
        {
          "output_type": "stream",
          "name": "stdout",
          "text": [
            "A funcionária Maria silva, sexo f, ganha R$ 4560.9 e tem 32 anos\n",
            "A funcionária Maria silva, sexo f, ganha R$ 4560.90 e tem 32 anos\n"
          ]
        }
      ]
    },
    {
      "cell_type": "code",
      "source": [
        "#usando placeholders\n",
        "idade = 32\n",
        "salario = 4560.9\n",
        "nome = 'Maria silva'\n",
        "sexo = 'f'\n",
        "\n",
        "print('A funcionária {:s}, sexo {:s}, ganha R$ {:.2f} e tem {:d} anos'.format(nome,sexo,salario,idade))"
      ],
      "metadata": {
        "colab": {
          "base_uri": "https://localhost:8080/"
        },
        "id": "0b4MCAkoDRVW",
        "outputId": "1731f649-f7f8-4d1e-a2ba-ef11b9cbf947"
      },
      "execution_count": null,
      "outputs": [
        {
          "output_type": "stream",
          "name": "stdout",
          "text": [
            "A funcionária Maria silva, sexo f, ganha R$ 4560.90 e tem 32 anos\n"
          ]
        }
      ]
    },
    {
      "cell_type": "markdown",
      "source": [
        "#Processamento de dados e casting no Python"
      ],
      "metadata": {
        "id": "bMt4k893FFvb"
      }
    },
    {
      "cell_type": "code",
      "source": [
        "x:int\n",
        "y:int\n",
        "\n",
        "x=5\n",
        "y=5*2\n",
        "\n",
        "print(x)"
      ],
      "metadata": {
        "id": "5_7ajYeQFR8f"
      },
      "execution_count": null,
      "outputs": []
    },
    {
      "cell_type": "code",
      "source": [
        "x:int\n",
        "y:float\n",
        "\n",
        "x=5\n",
        "y=5*2\n",
        "\n",
        "print(x)"
      ],
      "metadata": {
        "id": "iX3Wa07rFecq",
        "colab": {
          "base_uri": "https://localhost:8080/"
        },
        "outputId": "1a99461f-4e1e-4691-f0bf-0c5830398560"
      },
      "execution_count": null,
      "outputs": [
        {
          "output_type": "stream",
          "name": "stdout",
          "text": [
            "5\n"
          ]
        }
      ]
    },
    {
      "cell_type": "code",
      "source": [
        "b1: float; b2: float; h: float; area: float\n",
        "b1 = 6.0\n",
        "b2 = 8.0\n",
        "h = 5.0\n",
        "area = (b1 + b2) / 2.0 * h\n",
        "print(area)\n"
      ],
      "metadata": {
        "id": "yxBajLtaFpht",
        "colab": {
          "base_uri": "https://localhost:8080/"
        },
        "outputId": "b54b72a2-27fc-4cdb-b397-385c803147ad"
      },
      "execution_count": null,
      "outputs": [
        {
          "output_type": "stream",
          "name": "stdout",
          "text": [
            "35.0\n"
          ]
        }
      ]
    },
    {
      "cell_type": "code",
      "source": [
        "#a:int\n",
        "#b:int\n",
        "#resultado:int\n",
        "\n",
        "a=5\n",
        "b=2\n",
        "\n",
        "resultado= a/b\n",
        "print(resultado)\n",
        "\n",
        "type(resultado)"
      ],
      "metadata": {
        "id": "RvZK75PEF9Qb",
        "colab": {
          "base_uri": "https://localhost:8080/"
        },
        "outputId": "eb3048e3-b60c-4095-8fc7-d31048f1f55d"
      },
      "execution_count": null,
      "outputs": [
        {
          "output_type": "stream",
          "name": "stdout",
          "text": [
            "2.5\n"
          ]
        },
        {
          "output_type": "execute_result",
          "data": {
            "text/plain": [
              "float"
            ]
          },
          "metadata": {},
          "execution_count": 23
        }
      ]
    },
    {
      "cell_type": "code",
      "source": [
        "#para obter um resultado inteiro, necessário fazer divisão inteira\n",
        "resultado= a//b\n",
        "print(resultado)"
      ],
      "metadata": {
        "id": "IJBS_u31Gl3U"
      },
      "execution_count": null,
      "outputs": []
    },
    {
      "cell_type": "code",
      "source": [
        "a: float\n",
        "b: int\n",
        "a = 5.0\n",
        "b = a\n",
        "print(b)\n",
        "type(b)\n",
        "#mesmo b sendo do tipo int,\n",
        "#o python mantém o valor de a na variavel b"
      ],
      "metadata": {
        "id": "hgF384KXG1aB",
        "colab": {
          "base_uri": "https://localhost:8080/"
        },
        "outputId": "5284e7f6-6c55-4e97-be9e-b27f502ffb64"
      },
      "execution_count": null,
      "outputs": [
        {
          "output_type": "stream",
          "name": "stdout",
          "text": [
            "5.0\n"
          ]
        },
        {
          "output_type": "execute_result",
          "data": {
            "text/plain": [
              "float"
            ]
          },
          "metadata": {},
          "execution_count": 25
        }
      ]
    },
    {
      "cell_type": "code",
      "source": [
        "#para obter apenas a parte inteira do número:\n",
        "a: float\n",
        "b: int\n",
        "a = 5.0\n",
        "b = int(a)\n",
        "c=str(a)\n",
        "print(c)"
      ],
      "metadata": {
        "id": "PjknlJ-5HS8O",
        "colab": {
          "base_uri": "https://localhost:8080/"
        },
        "outputId": "ef000a8f-bb2f-4c7a-bc31-2d6e4f6d6c23"
      },
      "execution_count": null,
      "outputs": [
        {
          "output_type": "stream",
          "name": "stdout",
          "text": [
            "5.0\n"
          ]
        }
      ]
    },
    {
      "cell_type": "markdown",
      "source": [
        "#Entrada de dados"
      ],
      "metadata": {
        "id": "Z6uMagGVKyqj"
      }
    },
    {
      "cell_type": "code",
      "source": [
        "#salario1: float\n",
        "#salario2: float\n",
        "#nome1: str\n",
        "#nome2: str\n",
        "#idade: int\n",
        "#sexo: str\n",
        "\n",
        "#escreva(\"digite o nem da primeira pessoa: \")\n",
        "#leia(nome1)\n",
        "#escreva(nome1)\n",
        "\n",
        "nome1 = input(\"Nome da primeira pessoa: \")\n",
        "print(nome1)\n",
        "type(nome1)"
      ],
      "metadata": {
        "id": "m5w8ZalPK21B",
        "colab": {
          "base_uri": "https://localhost:8080/"
        },
        "outputId": "dcc5ff82-9766-47e3-b975-97b05cb7e596"
      },
      "execution_count": null,
      "outputs": [
        {
          "output_type": "stream",
          "name": "stdout",
          "text": [
            "Nome da primeira pessoa: 123\n",
            "123\n"
          ]
        },
        {
          "output_type": "execute_result",
          "data": {
            "text/plain": [
              "str"
            ]
          },
          "metadata": {},
          "execution_count": 32
        }
      ]
    },
    {
      "cell_type": "code",
      "source": [
        "#float() faz a conversão de str p/ float\n",
        "salario1 = float(input(\"Salario da primeira pessoa: \"))\n",
        "type(salario1)"
      ],
      "metadata": {
        "colab": {
          "base_uri": "https://localhost:8080/"
        },
        "id": "PmJbsffjOb9S",
        "outputId": "b7297bbe-d33e-440c-ebc9-7dca56f86c87"
      },
      "execution_count": null,
      "outputs": [
        {
          "name": "stdout",
          "output_type": "stream",
          "text": [
            "Salario da primeira pessoa: 1526.45\n"
          ]
        },
        {
          "output_type": "execute_result",
          "data": {
            "text/plain": [
              "float"
            ]
          },
          "metadata": {},
          "execution_count": 36
        }
      ]
    },
    {
      "cell_type": "code",
      "source": [
        "nome2 = input(\"Nome da segunda pessoa: \")\n",
        "salario2 = float(input(\"Salario da segunda pessoa: \"))\n"
      ],
      "metadata": {
        "colab": {
          "base_uri": "https://localhost:8080/"
        },
        "id": "F46yHNk8PGxj",
        "outputId": "2b3cb13f-c8db-4f7c-8167-95690ddf6409"
      },
      "execution_count": null,
      "outputs": [
        {
          "name": "stdout",
          "output_type": "stream",
          "text": [
            "Nome da segunda pessoa: pipoca\n",
            "Salario da segunda pessoa: 1.25\n"
          ]
        }
      ]
    },
    {
      "cell_type": "code",
      "source": [
        "idade = int(input(\"Digite uma idade: \"))\n",
        "#int() faz a conversão de str p/ inteiro\n",
        "sexo = input(\"Digite um sexo (F/M): \")"
      ],
      "metadata": {
        "colab": {
          "base_uri": "https://localhost:8080/"
        },
        "id": "jzzXpjLqPm0u",
        "outputId": "2b171aa2-c1d4-4d00-be27-a353f306ce55"
      },
      "execution_count": null,
      "outputs": [
        {
          "name": "stdout",
          "output_type": "stream",
          "text": [
            "Digite uma idade: 25\n",
            "Digite um sexo (F/M): f\n"
          ]
        }
      ]
    },
    {
      "cell_type": "code",
      "source": [
        "print(f\"Nome 1: {nome1}\")\n",
        "print(f\"Salario 1: {salario1:.2f}\")\n",
        "print(f\"Nome 2: {nome2}\")\n",
        "print(f\"Salario 2: {salario2:.2f}\")\n",
        "print(f\"Idade: {idade}\")\n",
        "print(f\"Sexo: {sexo}\")"
      ],
      "metadata": {
        "colab": {
          "base_uri": "https://localhost:8080/"
        },
        "id": "Pl5uPe3XPxDk",
        "outputId": "27fd4c9b-8714-483a-bcc0-48b5a6b9513d"
      },
      "execution_count": null,
      "outputs": [
        {
          "output_type": "stream",
          "name": "stdout",
          "text": [
            "Nome 1: 123\n",
            "Salario 1: 1526.45\n",
            "Nome 2: pipoca\n",
            "Salario 2: 1.25\n",
            "Idade: 25\n",
            "Sexo: f\n"
          ]
        }
      ]
    },
    {
      "cell_type": "markdown",
      "source": [
        "#Estrutura condicional: IF"
      ],
      "metadata": {
        "id": "zwfsHpHwMbtd"
      }
    },
    {
      "cell_type": "markdown",
      "source": [
        "**Estrutura simples**"
      ],
      "metadata": {
        "id": "SnVEhTfXMfhF"
      }
    },
    {
      "cell_type": "code",
      "source": [
        "x= 10\n",
        "print('bom dia')\n",
        "\n",
        "#estrutura condicional SE\n",
        "if x==0:\n",
        "  print('boa tarde')\n",
        "print('boa noite')\n",
        "\n"
      ],
      "metadata": {
        "id": "9Zk-kewLMlk9",
        "colab": {
          "base_uri": "https://localhost:8080/"
        },
        "outputId": "4c2a23e3-40fe-4f61-d28e-3afcc2c8f282"
      },
      "execution_count": null,
      "outputs": [
        {
          "output_type": "stream",
          "name": "stdout",
          "text": [
            "bom dia\n",
            "boa noite\n"
          ]
        }
      ]
    },
    {
      "cell_type": "code",
      "source": [
        "x= 10\n",
        "\n",
        "print('bom dia')\n",
        "if x<0:\n",
        "  print('boa tarde')\n",
        "print('boa noite')"
      ],
      "metadata": {
        "id": "cmGP6BYkNaYF"
      },
      "execution_count": null,
      "outputs": []
    },
    {
      "cell_type": "markdown",
      "source": [
        "**Estrutura composta**"
      ],
      "metadata": {
        "id": "oKZqIxKzNh-T"
      }
    },
    {
      "cell_type": "code",
      "source": [
        "#hora: int\n",
        "hora = int(input(\"Digite uma hora do dia: \"))\n",
        "if hora < 12:\n",
        " print(\"Bom dia!\")\n",
        "else: # SENÃO\n",
        " print(\"Boa tarde!\")\n"
      ],
      "metadata": {
        "id": "3vL0qLpUNm2C",
        "colab": {
          "base_uri": "https://localhost:8080/"
        },
        "outputId": "5613e27c-4c98-4133-f6ea-13dfe0e07e8e"
      },
      "execution_count": null,
      "outputs": [
        {
          "output_type": "stream",
          "name": "stdout",
          "text": [
            "Digite uma hora do dia: 15\n",
            "Boa tarde!\n"
          ]
        }
      ]
    },
    {
      "cell_type": "markdown",
      "source": [
        "**Encadeamento**"
      ],
      "metadata": {
        "id": "KuH1kDxAOAlA"
      }
    },
    {
      "cell_type": "code",
      "source": [
        "#hora: int\n",
        "hora = int(input(\"Digite uma hora do dia: \"))\n",
        "if hora < 12:\n",
        " print(\"Bom dia!\")\n",
        "elif hora< 18: #SENAO-SE\n",
        "  print(\"Boa tarde!\")\n",
        "else:\n",
        " print(\"Boa noite!\")"
      ],
      "metadata": {
        "id": "8yapDPRLN8jE",
        "colab": {
          "base_uri": "https://localhost:8080/"
        },
        "outputId": "b9ce22bd-15ed-4327-dbfb-fafc5a7868ba"
      },
      "execution_count": null,
      "outputs": [
        {
          "output_type": "stream",
          "name": "stdout",
          "text": [
            "Digite uma hora do dia: 20\n",
            "Boa noite!\n"
          ]
        }
      ]
    },
    {
      "cell_type": "markdown",
      "source": [
        "# Estrutura repetitiva: WHILE"
      ],
      "metadata": {
        "id": "nHYFGigzM8Lv"
      }
    },
    {
      "cell_type": "markdown",
      "source": [
        "**Sintaxe**\n",
        "\n",
        "while **condição**:\n",
        "\n",
        "comando1\n",
        "\n",
        "comando2"
      ],
      "metadata": {
        "id": "VVe2VZM1Rijj"
      }
    },
    {
      "cell_type": "code",
      "source": [
        "soma = 0\n",
        "x = int(input(\"Digite o primeiro numero: \"))\n",
        "\n",
        "while x != 0:\n",
        " soma += x\n",
        "\n",
        " # += incremento\n",
        " # -= decremento\n",
        "\n",
        " x = int(input(\"Digite outro numero: \"))\n",
        "\n",
        "print(\"SOMA = \", soma)"
      ],
      "metadata": {
        "id": "I-RJEkb_NhCB",
        "colab": {
          "base_uri": "https://localhost:8080/"
        },
        "outputId": "3f9a3776-a4b1-4068-ea19-6b5af1438193"
      },
      "execution_count": 3,
      "outputs": [
        {
          "output_type": "stream",
          "name": "stdout",
          "text": [
            "Digite o primeiro numero: 5\n",
            "Digite outro numero: 7\n",
            "Digite outro numero: 2\n",
            "Digite outro numero: 9\n",
            "Digite outro numero: 23\n",
            "Digite outro numero: 15\n",
            "Digite outro numero: 78\n",
            "Digite outro numero: 0\n",
            "SOMA =  139\n"
          ]
        }
      ]
    },
    {
      "cell_type": "markdown",
      "source": [
        "# Estrutura repetitiva: FOR"
      ],
      "metadata": {
        "id": "amo6Kd2QNNpi"
      }
    },
    {
      "cell_type": "markdown",
      "source": [
        "**Sintaxe**\n",
        "\n",
        "for **variavel** in range(valor_inicial, valor_final, [passo]):\n",
        "\n",
        "comando1\n",
        "\n",
        "comando2"
      ],
      "metadata": {
        "id": "NlOOwHSdRJFG"
      }
    },
    {
      "cell_type": "code",
      "source": [
        "N = int(input(\"Quantos numeros serao digitados? \"))\n",
        "soma = 0\n",
        "for i in range(0, N):\n",
        "  x = int(input(\"Digite um numero: \"))\n",
        "  soma += x\n",
        "print(\"SOMA = \", soma)"
      ],
      "metadata": {
        "colab": {
          "base_uri": "https://localhost:8080/"
        },
        "id": "O60eB8pVP70W",
        "outputId": "c1b02314-f8c2-4fef-d995-25fe341cd74f"
      },
      "execution_count": 7,
      "outputs": [
        {
          "output_type": "stream",
          "name": "stdout",
          "text": [
            "Quantos numeros serao digitados? 1\n",
            "Digite um numero: 5\n",
            "Digite um numero: 3\n",
            "Digite um numero: 2\n",
            "Digite um numero: 4\n",
            "Digite um numero: 5\n",
            "Digite um numero: 7\n",
            "Digite um numero: 8\n",
            "Digite um numero: 9\n",
            "Digite um numero: 1\n",
            "Digite um numero: 2\n",
            "Digite um numero: 3\n",
            "Digite um numero: 4\n",
            "Digite um numero: 5\n",
            "Digite um numero: 6\n",
            "Digite um numero: 7\n",
            "Digite um numero: 8\n",
            "Digite um numero: 9\n",
            "Digite um numero: 1\n",
            "Digite um numero: 2\n",
            "Digite um numero: 4\n",
            "SOMA =  95\n"
          ]
        }
      ]
    }
  ]
}